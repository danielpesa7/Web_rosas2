{
 "cells": [
  {
   "cell_type": "code",
   "execution_count": 5,
   "metadata": {},
   "outputs": [],
   "source": [
    "import PIL\n",
    "from PIL import Image\n",
    "import glob, os"
   ]
  },
  {
   "cell_type": "code",
   "execution_count": 33,
   "metadata": {},
   "outputs": [],
   "source": [
    "def resize():\n",
    "    largo = int(input('Digite el nuevo largo: '))\n",
    "    alto = int(input('Digite el nuevo alto: '))\n",
    "    print('Cambiando el tamaño de las imagenes a: {} x {}'.format(largo,alto))\n",
    "    for infile in glob.glob(\"*.jpg\"):\n",
    "        file, ext = os.path.splitext(infile)\n",
    "        imagen = Image.open(file+'.jpg')\n",
    "        resized_image = imagen.resize((largo,alto), PIL.Image.NEAREST)\n",
    "        if not os.path.exists(str(largo) + 'x' + str(alto)+'_thumbnails/'):\n",
    "            os.mkdir(str(largo) + 'x' + str(alto)+'_thumbnails/')\n",
    "        resized_image.save(str(largo) + 'x' + str(alto)+'_thumbnails/'+file + \"_thumbnail\", \"JPEG\")\n",
    "        print('Guardando ' + str(largo) + 'x' + str(alto)+'_thumbnails/'+file + '_thumbnail')"
   ]
  }
 ],
 "metadata": {
  "kernelspec": {
   "display_name": "Python 3",
   "language": "python",
   "name": "python3"
  },
  "language_info": {
   "codemirror_mode": {
    "name": "ipython",
    "version": 3
   },
   "file_extension": ".py",
   "mimetype": "text/x-python",
   "name": "python",
   "nbconvert_exporter": "python",
   "pygments_lexer": "ipython3",
   "version": "3.7.3"
  }
 },
 "nbformat": 4,
 "nbformat_minor": 2
}
